{
 "cells": [
  {
   "cell_type": "markdown",
   "id": "426f3b22",
   "metadata": {},
   "source": [
    "<h2> Import Libraries</h2>"
   ]
  },
  {
   "cell_type": "code",
   "execution_count": 1,
   "id": "ccd3e375",
   "metadata": {},
   "outputs": [
    {
     "name": "stderr",
     "output_type": "stream",
     "text": [
      "2022-05-05 16:44:03.060763: W tensorflow/stream_executor/platform/default/dso_loader.cc:64] Could not load dynamic library 'libcudart.so.11.0'; dlerror: libcudart.so.11.0: cannot open shared object file: No such file or directory\n",
      "2022-05-05 16:44:03.060832: I tensorflow/stream_executor/cuda/cudart_stub.cc:29] Ignore above cudart dlerror if you do not have a GPU set up on your machine.\n"
     ]
    }
   ],
   "source": [
    "import numpy as np\n",
    "import pandas as pd\n",
    "from matplotlib import pyplot as plt   \n",
    "\n",
    "from sklearn.model_selection import train_test_split   \n",
    "from sklearn.preprocessing import LabelEncoder\n",
    "\n",
    "import librosa \n",
    "import librosa.display\n",
    "\n",
    "import tensorflow.keras as keras\n",
    "from keras import layers, Sequential\n",
    "\n",
    "import warnings\n",
    "warnings.simplefilter('ignore')"
   ]
  },
  {
   "cell_type": "code",
   "execution_count": 14,
   "id": "3ef469a2",
   "metadata": {},
   "outputs": [],
   "source": [
    "AUDIO_SIGNAL_PATH = 'pkl_files/audio.npy'\n",
    "NOISED_SIGNAL_PATH = 'pkl_files/noised_signal.npy'\n",
    "TARGET_PATH = 'pkl_files/target.csv'\n",
    "MODEL_WEIGHTS_PATH = 'models/model_wieghts.hdf5'\n",
    "MAPPING_PATH = 'pkl_files/mapping_file.npy'\n",
    "MODEL1 = 'models/model1.h5'\n",
    "AUGMENTED_MODEL = 'models/augmented_model.h5'\n",
    "NOISE_RATE = 0.22\n",
    "SECONDS = 1.0\n",
    "AUGMENTED_DATA_SIZE = 14000"
   ]
  },
  {
   "cell_type": "code",
   "execution_count": 3,
   "id": "98383b1d",
   "metadata": {},
   "outputs": [],
   "source": [
    "def build_model(input_shape):\n",
    "    model = Sequential()\n",
    "    \n",
    "    # features extracting layers\n",
    "    # conv 1 + maxpool\n",
    "    model.add(keras.layers.Conv2D(3, (3, 3), activation='relu', input_shape=input_shape))\n",
    "    model.add(keras.layers.MaxPooling2D((3, 3), strides=(2, 2), padding='same'))\n",
    "    model.add(keras.layers.BatchNormalization())\n",
    "    \n",
    "    # conv 2 + maxpool\n",
    "    model.add(keras.layers.Conv2D(3, (3, 3), activation='relu', input_shape=input_shape))\n",
    "    model.add(keras.layers.MaxPooling2D((3, 3), strides=(2, 2), padding='same'))\n",
    "    model.add(keras.layers.BatchNormalization())\n",
    "    \n",
    "    # conv 3 + maxpool\n",
    "    model.add(keras.layers.Conv2D(3, (2, 2), activation='relu', input_shape=input_shape))\n",
    "    model.add(keras.layers.MaxPooling2D((2, 2), strides=(2, 2), padding='same'))\n",
    "    model.add(keras.layers.BatchNormalization())\n",
    "    \n",
    "    # Flatten layer + classification layer\n",
    "    model.add(keras.layers.Flatten())\n",
    "    model.add(keras.layers.Dense(units=128, activation='relu'))\n",
    "    model.add(keras.layers.Dropout(rate=0.25))\n",
    "    \n",
    "    # output layer\n",
    "    model.add(keras.layers.Dense(units=8, activation='softmax'))\n",
    "    \n",
    "    return model"
   ]
  },
  {
   "cell_type": "code",
   "execution_count": 4,
   "id": "12c31fe8",
   "metadata": {},
   "outputs": [],
   "source": [
    "def signal_mfcc_preprocessing(signals, N_MFCC=13):\n",
    "    mfcc_array = []\n",
    "    for signal in signals:\n",
    "        mfcc = librosa.feature.mfcc(signal, n_mfcc=N_MFCC)\n",
    "        mfcc_array.append(mfcc)\n",
    "        \n",
    "    mfcc_array = np.array(mfcc_array)\n",
    "    mfcc_array = mfcc_array[..., np.newaxis]\n",
    "    return mfcc_array"
   ]
  },
  {
   "cell_type": "code",
   "execution_count": 5,
   "id": "c38ed4e4",
   "metadata": {},
   "outputs": [],
   "source": [
    "def add_white_noise(signal, noise_rate):\n",
    "    white_noise = np.random.normal(0, 1, signal.size)\n",
    "    noised_signal = signal + white_noise * noise_rate\n",
    "    return noised_signal"
   ]
  },
  {
   "cell_type": "code",
   "execution_count": 6,
   "id": "3abec029",
   "metadata": {},
   "outputs": [],
   "source": [
    "def cm_normalize(cm, axis_size=8):\n",
    "    cm = [cm[i, j] / sum(cm[i, :]) for i in range(axis_size) for j in range(axis_size)]\n",
    "    cm = np.array(cm).reshape(axis_size, axis_size)\n",
    "    return cm"
   ]
  },
  {
   "cell_type": "markdown",
   "id": "9ff61238",
   "metadata": {},
   "source": [
    "<h2> Data augmentation </h2>"
   ]
  },
  {
   "cell_type": "code",
   "execution_count": 8,
   "id": "e914ffff",
   "metadata": {},
   "outputs": [],
   "source": [
    "# read signal, target files\n",
    "\n",
    "X_signal = np.load(AUDIO_SIGNAL_PATH, allow_pickle=True)\n",
    "y = pd.read_csv(TARGET_PATH).values"
   ]
  },
  {
   "cell_type": "code",
   "execution_count": 11,
   "id": "cfb79afb",
   "metadata": {},
   "outputs": [],
   "source": [
    "# remove audios less than 1.0 sec\n",
    "period = pd.Series(X_signal.reshape(-1)).apply(len) / 22050\n",
    "X_signal = pd.Series(X_signal.reshape(-1)).drop(period[period<SECONDS].index)\n",
    "\n",
    "# take only a apart of original data to add noise\n",
    "X_signal = X_signal[:AUGMENTED_DATA_SIZE]\n",
    "y = y[:AUGMENTED_DATA_SIZE]\n",
    "\n",
    "# add noise to the original data\n",
    "\n",
    "noised_signal = add_white_noise(X_signal, NOISE_RATE)"
   ]
  },
  {
   "cell_type": "code",
   "execution_count": 41,
   "id": "9dbb7e2b",
   "metadata": {},
   "outputs": [],
   "source": [
    "# save data in HDD\n",
    "np.save(NOISED_SIGNAL_PATH, noised_signal, allow_pickle=True)"
   ]
  },
  {
   "cell_type": "code",
   "execution_count": 12,
   "id": "ccce1515",
   "metadata": {},
   "outputs": [],
   "source": [
    "# tranform our noised signal in mfcc form\n",
    "noised_mfcc = signal_mfcc_preprocessing(noised_signal, N_MFCC=13)"
   ]
  },
  {
   "cell_type": "code",
   "execution_count": 13,
   "id": "af1678af",
   "metadata": {
    "jupyter": {
     "outputs_hidden": true
    }
   },
   "outputs": [],
   "source": [
    "# encode y from string to integers\n",
    "le = LabelEncoder()\n",
    "y = le.fit_transform(y)\n",
    "\n",
    "# split mfcc to train & validation data\n",
    "X_train, X_test, y_train, y_test = train_test_split(noised_mfcc, y\n",
    "                                                    ,test_size=0.2\n",
    "                                                    ,shuffle=True\n",
    "                                                    ,random_state=101)"
   ]
  },
  {
   "cell_type": "markdown",
   "id": "77cdf6d9",
   "metadata": {},
   "source": [
    "<h2> Train model </h2>"
   ]
  },
  {
   "cell_type": "code",
   "execution_count": 49,
   "id": "abe2ca8e",
   "metadata": {
    "collapsed": true,
    "jupyter": {
     "outputs_hidden": true
    }
   },
   "outputs": [
    {
     "name": "stderr",
     "output_type": "stream",
     "text": [
      "2022-04-24 00:29:17.267017: I tensorflow/stream_executor/cuda/cuda_gpu_executor.cc:936] successful NUMA node read from SysFS had negative value (-1), but there must be at least one NUMA node, so returning NUMA node zero\n",
      "2022-04-24 00:29:17.267537: W tensorflow/stream_executor/platform/default/dso_loader.cc:64] Could not load dynamic library 'libcudart.so.11.0'; dlerror: libcudart.so.11.0: cannot open shared object file: No such file or directory\n",
      "2022-04-24 00:29:17.267637: W tensorflow/stream_executor/platform/default/dso_loader.cc:64] Could not load dynamic library 'libcublas.so.11'; dlerror: libcublas.so.11: cannot open shared object file: No such file or directory\n",
      "2022-04-24 00:29:17.267723: W tensorflow/stream_executor/platform/default/dso_loader.cc:64] Could not load dynamic library 'libcublasLt.so.11'; dlerror: libcublasLt.so.11: cannot open shared object file: No such file or directory\n",
      "2022-04-24 00:29:17.267805: W tensorflow/stream_executor/platform/default/dso_loader.cc:64] Could not load dynamic library 'libcufft.so.10'; dlerror: libcufft.so.10: cannot open shared object file: No such file or directory\n",
      "2022-04-24 00:29:17.267888: W tensorflow/stream_executor/platform/default/dso_loader.cc:64] Could not load dynamic library 'libcurand.so.10'; dlerror: libcurand.so.10: cannot open shared object file: No such file or directory\n",
      "2022-04-24 00:29:17.267972: W tensorflow/stream_executor/platform/default/dso_loader.cc:64] Could not load dynamic library 'libcusolver.so.11'; dlerror: libcusolver.so.11: cannot open shared object file: No such file or directory\n",
      "2022-04-24 00:29:17.268054: W tensorflow/stream_executor/platform/default/dso_loader.cc:64] Could not load dynamic library 'libcusparse.so.11'; dlerror: libcusparse.so.11: cannot open shared object file: No such file or directory\n",
      "2022-04-24 00:29:17.268136: W tensorflow/stream_executor/platform/default/dso_loader.cc:64] Could not load dynamic library 'libcudnn.so.8'; dlerror: libcudnn.so.8: cannot open shared object file: No such file or directory\n",
      "2022-04-24 00:29:17.268151: W tensorflow/core/common_runtime/gpu/gpu_device.cc:1850] Cannot dlopen some GPU libraries. Please make sure the missing libraries mentioned above are installed properly if you would like to use GPU. Follow the guide at https://www.tensorflow.org/install/gpu for how to download and setup the required libraries for your platform.\n",
      "Skipping registering GPU devices...\n",
      "2022-04-24 00:29:17.269487: I tensorflow/core/platform/cpu_feature_guard.cc:151] This TensorFlow binary is optimized with oneAPI Deep Neural Network Library (oneDNN) to use the following CPU instructions in performance-critical operations:  AVX2 FMA\n",
      "To enable them in other operations, rebuild TensorFlow with the appropriate compiler flags.\n"
     ]
    }
   ],
   "source": [
    "model = build_model(noised_mfcc.shape[1:])\n",
    "model.load_weights(MODEL_WEIGHTS_PATH) # load weights of trained model without data augmentation\n",
    "\n",
    "model.summary()"
   ]
  },
  {
   "cell_type": "code",
   "execution_count": 52,
   "id": "4a7fc781",
   "metadata": {},
   "outputs": [],
   "source": [
    "optimizer = keras.optimizers.Adam(learning_rate=1e-3)\n",
    "model.compile(optimizer=optimizer\n",
    "             ,loss='sparse_categorical_crossentropy'\n",
    "             ,metrics=['accuracy'])\n",
    "\n",
    "es = keras.callbacks.EarlyStopping(min_delta=0.01, patience=20, restore_best_weights=True)"
   ]
  },
  {
   "cell_type": "code",
   "execution_count": 93,
   "id": "845562ac",
   "metadata": {
    "collapsed": true,
    "jupyter": {
     "outputs_hidden": true
    }
   },
   "outputs": [
    {
     "name": "stdout",
     "output_type": "stream",
     "text": [
      "Epoch 1/100\n",
      "350/350 [==============================] - 3s 8ms/step - loss: 0.6434 - accuracy: 0.7771 - val_loss: 0.5989 - val_accuracy: 0.7982\n",
      "Epoch 2/100\n",
      "350/350 [==============================] - 3s 8ms/step - loss: 0.6384 - accuracy: 0.7774 - val_loss: 0.5999 - val_accuracy: 0.7968\n",
      "Epoch 3/100\n",
      "350/350 [==============================] - 3s 7ms/step - loss: 0.6315 - accuracy: 0.7821 - val_loss: 0.6024 - val_accuracy: 0.8011\n",
      "Epoch 4/100\n",
      "350/350 [==============================] - 3s 7ms/step - loss: 0.6194 - accuracy: 0.7861 - val_loss: 0.5973 - val_accuracy: 0.7996\n",
      "Epoch 5/100\n",
      "350/350 [==============================] - 3s 7ms/step - loss: 0.6153 - accuracy: 0.7894 - val_loss: 0.5970 - val_accuracy: 0.8025\n",
      "Epoch 6/100\n",
      "350/350 [==============================] - 3s 7ms/step - loss: 0.6214 - accuracy: 0.7860 - val_loss: 0.6044 - val_accuracy: 0.7982\n",
      "Epoch 7/100\n",
      "350/350 [==============================] - 2s 7ms/step - loss: 0.6099 - accuracy: 0.7856 - val_loss: 0.6014 - val_accuracy: 0.8029\n",
      "Epoch 8/100\n",
      "350/350 [==============================] - 2s 7ms/step - loss: 0.6141 - accuracy: 0.7844 - val_loss: 0.6012 - val_accuracy: 0.8032\n",
      "Epoch 9/100\n",
      "350/350 [==============================] - 2s 7ms/step - loss: 0.6179 - accuracy: 0.7844 - val_loss: 0.6019 - val_accuracy: 0.8014\n",
      "Epoch 10/100\n",
      "350/350 [==============================] - 3s 7ms/step - loss: 0.6125 - accuracy: 0.7868 - val_loss: 0.6035 - val_accuracy: 0.8007\n",
      "Epoch 11/100\n",
      "350/350 [==============================] - 3s 7ms/step - loss: 0.6096 - accuracy: 0.7877 - val_loss: 0.6043 - val_accuracy: 0.8064\n",
      "Epoch 12/100\n",
      "350/350 [==============================] - 3s 7ms/step - loss: 0.6024 - accuracy: 0.7898 - val_loss: 0.6019 - val_accuracy: 0.8036\n",
      "Epoch 13/100\n",
      "350/350 [==============================] - 3s 8ms/step - loss: 0.6022 - accuracy: 0.7890 - val_loss: 0.6031 - val_accuracy: 0.8032\n",
      "Epoch 14/100\n",
      "350/350 [==============================] - 3s 7ms/step - loss: 0.6062 - accuracy: 0.7872 - val_loss: 0.6019 - val_accuracy: 0.8071\n",
      "Epoch 15/100\n",
      "350/350 [==============================] - 3s 7ms/step - loss: 0.5953 - accuracy: 0.7917 - val_loss: 0.6021 - val_accuracy: 0.8054\n",
      "Epoch 16/100\n",
      "350/350 [==============================] - 3s 7ms/step - loss: 0.5957 - accuracy: 0.7904 - val_loss: 0.6019 - val_accuracy: 0.8054\n",
      "Epoch 17/100\n",
      "350/350 [==============================] - 3s 7ms/step - loss: 0.5940 - accuracy: 0.7929 - val_loss: 0.6032 - val_accuracy: 0.7986\n",
      "Epoch 18/100\n",
      "350/350 [==============================] - 3s 7ms/step - loss: 0.6013 - accuracy: 0.7906 - val_loss: 0.6067 - val_accuracy: 0.7971\n",
      "Epoch 19/100\n",
      "350/350 [==============================] - 3s 7ms/step - loss: 0.5913 - accuracy: 0.7965 - val_loss: 0.6087 - val_accuracy: 0.8004\n",
      "Epoch 20/100\n",
      "350/350 [==============================] - 3s 7ms/step - loss: 0.6027 - accuracy: 0.7870 - val_loss: 0.6103 - val_accuracy: 0.7971\n",
      "Epoch 21/100\n",
      "350/350 [==============================] - 3s 7ms/step - loss: 0.5921 - accuracy: 0.7943 - val_loss: 0.6057 - val_accuracy: 0.8071\n"
     ]
    }
   ],
   "source": [
    "history = model.fit(X_train, y_train, validation_data=(X_test, y_test), epochs=100, batch_size=32\n",
    "                   ,callbacks=[es])"
   ]
  },
  {
   "cell_type": "code",
   "execution_count": 97,
   "id": "bf638bd2",
   "metadata": {},
   "outputs": [
    {
     "data": {
      "image/png": "[encoded data removed]",
      "text/plain": [
       "<Figure size 432x288 with 1 Axes>"
      ]
     },
     "metadata": {
      "needs_background": "light"
     },
     "output_type": "display_data"
    }
   ],
   "source": [
    "fig, axs = plt.subplots(1, 2, figsize=(20, 5))\n",
    "\n",
    "axs[0].plot(history.history['loss'], label='train')\n",
    "axs[0].plot(history.history['val_loss'], label='val')\n",
    "axs[0].set_title('loss')\n",
    "axs[0].legend()\n",
    "\n",
    "\n",
    "axs[1].plot(history.history['accuracy'], label='train')\n",
    "axs[1].plot(history.history['val_accuracy'], label='val')\n",
    "axs[1].set_title('accuracy')\n",
    "axs[1].legend()\n",
    "\n",
    "plt.show()"
   ]
  },
  {
   "cell_type": "code",
   "execution_count": 11,
   "id": "4e534cac",
   "metadata": {},
   "outputs": [
    {
     "name": "stdout",
     "output_type": "stream",
     "text": [
      "WARNING:tensorflow:Compiled the loaded model, but the compiled metrics have yet to be built. `model.compile_metrics` will be empty until you train or evaluate the model.\n"
     ]
    }
   ],
   "source": [
    "# save model with augmentation\n",
    "# model.save_weights('model_wieghts.hdf5', over_write=True)\n",
    "\n",
    "# model.save('augmented_model.h5')"
   ]
  },
  {
   "cell_type": "markdown",
   "id": "78b29114",
   "metadata": {},
   "source": [
    "<h2> Evaluate augmented model metrics</h2>"
   ]
  },
  {
   "cell_type": "code",
   "execution_count": 16,
   "id": "1127ed94",
   "metadata": {},
   "outputs": [],
   "source": [
    "from sklearn.metrics import classification_report, confusion_matrix"
   ]
  },
  {
   "cell_type": "code",
   "execution_count": 17,
   "id": "6d2fdc4c",
   "metadata": {
    "collapsed": true
   },
   "outputs": [
    {
     "ename": "ValueError",
     "evalue": "y contains previously unseen labels: [0, 1, 2, 3, 4, 5, 6, 7]",
     "output_type": "error",
     "traceback": [
      "\u001b[0;31m---------------------------------------------------------------------------\u001b[0m",
      "\u001b[0;31mValueError\u001b[0m                                Traceback (most recent call last)",
      "\u001b[0;32m/tmp/ipykernel_12209/4061871889.py\u001b[0m in \u001b[0;36m<module>\u001b[0;34m\u001b[0m\n\u001b[1;32m      7\u001b[0m \u001b[0;34m\u001b[0m\u001b[0m\n\u001b[1;32m      8\u001b[0m \u001b[0mX_mfcc_test\u001b[0m \u001b[0;34m=\u001b[0m \u001b[0msignal_mfcc_preprocessing\u001b[0m\u001b[0;34m(\u001b[0m\u001b[0mX_test\u001b[0m\u001b[0;34m,\u001b[0m \u001b[0mN_MFCC\u001b[0m\u001b[0;34m=\u001b[0m\u001b[0;36m13\u001b[0m\u001b[0;34m)\u001b[0m\u001b[0;34m\u001b[0m\u001b[0;34m\u001b[0m\u001b[0m\n\u001b[0;32m----> 9\u001b[0;31m \u001b[0my_test\u001b[0m \u001b[0;34m=\u001b[0m \u001b[0mle\u001b[0m\u001b[0;34m.\u001b[0m\u001b[0mtransform\u001b[0m\u001b[0;34m(\u001b[0m\u001b[0my_test\u001b[0m\u001b[0;34m)\u001b[0m\u001b[0;34m\u001b[0m\u001b[0;34m\u001b[0m\u001b[0m\n\u001b[0m",
      "\u001b[0;32m~/.local/lib/python3.8/site-packages/sklearn/preprocessing/_label.py\u001b[0m in \u001b[0;36mtransform\u001b[0;34m(self, y)\u001b[0m\n\u001b[1;32m    275\u001b[0m             \u001b[0;32mreturn\u001b[0m \u001b[0mnp\u001b[0m\u001b[0;34m.\u001b[0m\u001b[0marray\u001b[0m\u001b[0;34m(\u001b[0m\u001b[0;34m[\u001b[0m\u001b[0;34m]\u001b[0m\u001b[0;34m)\u001b[0m\u001b[0;34m\u001b[0m\u001b[0;34m\u001b[0m\u001b[0m\n\u001b[1;32m    276\u001b[0m \u001b[0;34m\u001b[0m\u001b[0m\n\u001b[0;32m--> 277\u001b[0;31m         \u001b[0m_\u001b[0m\u001b[0;34m,\u001b[0m \u001b[0my\u001b[0m \u001b[0;34m=\u001b[0m \u001b[0m_encode\u001b[0m\u001b[0;34m(\u001b[0m\u001b[0my\u001b[0m\u001b[0;34m,\u001b[0m \u001b[0muniques\u001b[0m\u001b[0;34m=\u001b[0m\u001b[0mself\u001b[0m\u001b[0;34m.\u001b[0m\u001b[0mclasses_\u001b[0m\u001b[0;34m,\u001b[0m \u001b[0mencode\u001b[0m\u001b[0;34m=\u001b[0m\u001b[0;32mTrue\u001b[0m\u001b[0;34m)\u001b[0m\u001b[0;34m\u001b[0m\u001b[0;34m\u001b[0m\u001b[0m\n\u001b[0m\u001b[1;32m    278\u001b[0m         \u001b[0;32mreturn\u001b[0m \u001b[0my\u001b[0m\u001b[0;34m\u001b[0m\u001b[0;34m\u001b[0m\u001b[0m\n\u001b[1;32m    279\u001b[0m \u001b[0;34m\u001b[0m\u001b[0m\n",
      "\u001b[0;32m~/.local/lib/python3.8/site-packages/sklearn/preprocessing/_label.py\u001b[0m in \u001b[0;36m_encode\u001b[0;34m(values, uniques, encode, check_unknown)\u001b[0m\n\u001b[1;32m    119\u001b[0m         \u001b[0;32mreturn\u001b[0m \u001b[0mres\u001b[0m\u001b[0;34m\u001b[0m\u001b[0;34m\u001b[0m\u001b[0m\n\u001b[1;32m    120\u001b[0m     \u001b[0;32melse\u001b[0m\u001b[0;34m:\u001b[0m\u001b[0;34m\u001b[0m\u001b[0;34m\u001b[0m\u001b[0m\n\u001b[0;32m--> 121\u001b[0;31m         return _encode_numpy(values, uniques, encode,\n\u001b[0m\u001b[1;32m    122\u001b[0m                              check_unknown=check_unknown)\n\u001b[1;32m    123\u001b[0m \u001b[0;34m\u001b[0m\u001b[0m\n",
      "\u001b[0;32m~/.local/lib/python3.8/site-packages/sklearn/preprocessing/_label.py\u001b[0m in \u001b[0;36m_encode_numpy\u001b[0;34m(values, uniques, encode, check_unknown)\u001b[0m\n\u001b[1;32m     48\u001b[0m             \u001b[0mdiff\u001b[0m \u001b[0;34m=\u001b[0m \u001b[0m_encode_check_unknown\u001b[0m\u001b[0;34m(\u001b[0m\u001b[0mvalues\u001b[0m\u001b[0;34m,\u001b[0m \u001b[0muniques\u001b[0m\u001b[0;34m)\u001b[0m\u001b[0;34m\u001b[0m\u001b[0;34m\u001b[0m\u001b[0m\n\u001b[1;32m     49\u001b[0m             \u001b[0;32mif\u001b[0m \u001b[0mdiff\u001b[0m\u001b[0;34m:\u001b[0m\u001b[0;34m\u001b[0m\u001b[0;34m\u001b[0m\u001b[0m\n\u001b[0;32m---> 50\u001b[0;31m                 raise ValueError(\"y contains previously unseen labels: %s\"\n\u001b[0m\u001b[1;32m     51\u001b[0m                                  % str(diff))\n\u001b[1;32m     52\u001b[0m         \u001b[0mencoded\u001b[0m \u001b[0;34m=\u001b[0m \u001b[0mnp\u001b[0m\u001b[0;34m.\u001b[0m\u001b[0msearchsorted\u001b[0m\u001b[0;34m(\u001b[0m\u001b[0muniques\u001b[0m\u001b[0;34m,\u001b[0m \u001b[0mvalues\u001b[0m\u001b[0;34m)\u001b[0m\u001b[0;34m\u001b[0m\u001b[0;34m\u001b[0m\u001b[0m\n",
      "\u001b[0;31mValueError\u001b[0m: y contains previously unseen labels: [0, 1, 2, 3, 4, 5, 6, 7]"
     ]
    }
   ],
   "source": [
    "# test on noised data\n",
    "\n",
    "RANGE = np.arange(0, 10000)\n",
    "\n",
    "X_test = noised_signal[RANGE]\n",
    "y_test = y[RANGE]\n",
    "\n",
    "X_mfcc_test = signal_mfcc_preprocessing(X_test, N_MFCC=13)"
   ]
  },
  {
   "cell_type": "code",
   "execution_count": 27,
   "id": "f978571a",
   "metadata": {},
   "outputs": [
    {
     "data": {
      "text/plain": [
       "(10000,)"
      ]
     },
     "execution_count": 27,
     "metadata": {},
     "output_type": "execute_result"
    }
   ],
   "source": [
    "y_test.shape"
   ]
  },
  {
   "cell_type": "code",
   "execution_count": 36,
   "id": "4f096880",
   "metadata": {},
   "outputs": [
    {
     "name": "stderr",
     "output_type": "stream",
     "text": [
      "2022-05-05 17:01:07.314795: W tensorflow/core/framework/cpu_allocator_impl.cc:82] Allocation of 22880000 exceeds 10% of free system memory.\n"
     ]
    },
    {
     "data": {
      "text/plain": [
       "<AxesSubplot:>"
      ]
     },
     "execution_count": 36,
     "metadata": {},
     "output_type": "execute_result"
    },
    {
     "data": {
      "image/png": "[encoded data removed]",
      "text/plain": [
       "<Figure size 432x288 with 2 Axes>"
      ]
     },
     "metadata": {
      "needs_background": "light"
     },
     "output_type": "display_data"
    }
   ],
   "source": [
    "y_pred = model.predict(X_mfcc_test)\n",
    "y_pred = np.argmax(y_pred, axis=1)\n",
    "cm = confusion_matrix(y_test, y_pred)\n",
    "cm = cm_normalize(cm)\n",
    "\n",
    "import seaborn as sns\n",
    "sns.heatmap(cm, annot=True, center=True, fmt='.2f')"
   ]
  },
  {
   "cell_type": "code",
   "execution_count": 37,
   "id": "9cbd8126",
   "metadata": {},
   "outputs": [
    {
     "name": "stdout",
     "output_type": "stream",
     "text": [
      "              precision    recall  f1-score   support\n",
      "\n",
      "           0       0.12      0.01      0.01      1277\n",
      "           1       0.13      0.35      0.19      1261\n",
      "           2       0.13      0.38      0.20      1255\n",
      "           3       0.13      0.26      0.18      1197\n",
      "           4       0.00      0.00      0.00      1266\n",
      "           5       0.50      0.00      0.00      1238\n",
      "           6       0.13      0.02      0.04      1251\n",
      "           7       0.13      0.03      0.05      1255\n",
      "\n",
      "    accuracy                           0.13     10000\n",
      "   macro avg       0.16      0.13      0.08     10000\n",
      "weighted avg       0.16      0.13      0.08     10000\n",
      "\n"
     ]
    }
   ],
   "source": [
    "print(classification_report(y_true=y_test, y_pred=y_pred))"
   ]
  },
  {
   "cell_type": "markdown",
   "id": "ac2fa7b9",
   "metadata": {},
   "source": [
    "<h2> Compare between two models </h2>"
   ]
  },
  {
   "cell_type": "code",
   "execution_count": 38,
   "id": "7eaacd25",
   "metadata": {
    "scrolled": true
   },
   "outputs": [
    {
     "name": "stdout",
     "output_type": "stream",
     "text": [
      "WARNING:tensorflow:No training configuration found in the save file, so the model was *not* compiled. Compile it manually.\n"
     ]
    }
   ],
   "source": [
    "model1 = keras.models.load_model(MODEL1)"
   ]
  },
  {
   "cell_type": "code",
   "execution_count": 44,
   "id": "4bfa3900",
   "metadata": {},
   "outputs": [
    {
     "name": "stderr",
     "output_type": "stream",
     "text": [
      "2022-05-05 17:05:38.550885: W tensorflow/core/framework/cpu_allocator_impl.cc:82] Allocation of 22880000 exceeds 10% of free system memory.\n"
     ]
    },
    {
     "data": {
      "image/png": "[encoded data removed]",
      "text/plain": [
       "<Figure size 1440x504 with 4 Axes>"
      ]
     },
     "metadata": {
      "needs_background": "light"
     },
     "output_type": "display_data"
    }
   ],
   "source": [
    "y_pred1 = model.predict(X_mfcc_test)\n",
    "y_pred1 = np.argmax(y_pred1, axis=1)\n",
    "cm1 = confusion_matrix(y_test, y_pred1)\n",
    "cm1 = cm_normalize(cm1)\n",
    "\n",
    "fig, axs = plt.subplots(1, 2, figsize=(20, 7))\n",
    "\n",
    "sns.heatmap(cm1, annot=True, center=True, fmt='.2f', ax=axs[0])\n",
    "sns.heatmap(cm, annot=True, center=True, fmt='.2f', ax=axs[1])\n",
    "axs[0].set_title('CM for model 1 \\n( without Augmentation)')\n",
    "axs[1].set_title('CM for model 2 \\n( with Augmentation)')\n",
    "\n",
    "plt.show()"
   ]
  },
  {
   "cell_type": "code",
   "execution_count": 48,
   "id": "83c16653",
   "metadata": {},
   "outputs": [
    {
     "name": "stdout",
     "output_type": "stream",
     "text": [
      "\u001b[31mClassification report for model 1\n",
      "without augmentation\u001b[0m\n",
      "              precision    recall  f1-score   support\n",
      "\n",
      "           0       0.12      0.01      0.01      1277\n",
      "           1       0.13      0.35      0.19      1261\n",
      "           2       0.13      0.38      0.20      1255\n",
      "           3       0.13      0.26      0.18      1197\n",
      "           4       0.00      0.00      0.00      1266\n",
      "           5       0.50      0.00      0.00      1238\n",
      "           6       0.13      0.02      0.04      1251\n",
      "           7       0.13      0.03      0.05      1255\n",
      "\n",
      "    accuracy                           0.13     10000\n",
      "   macro avg       0.16      0.13      0.08     10000\n",
      "weighted avg       0.16      0.13      0.08     10000\n",
      "\n",
      "\u001b[34m######################################################################\u001b[0m\n",
      "\u001b[31mClassification report for model 2\n",
      "with augmentation\u001b[0m\n",
      "              precision    recall  f1-score   support\n",
      "\n",
      "           0       0.12      0.01      0.01      1277\n",
      "           1       0.13      0.35      0.19      1261\n",
      "           2       0.13      0.38      0.20      1255\n",
      "           3       0.13      0.26      0.18      1197\n",
      "           4       0.00      0.00      0.00      1266\n",
      "           5       0.50      0.00      0.00      1238\n",
      "           6       0.13      0.02      0.04      1251\n",
      "           7       0.13      0.03      0.05      1255\n",
      "\n",
      "    accuracy                           0.13     10000\n",
      "   macro avg       0.16      0.13      0.08     10000\n",
      "weighted avg       0.16      0.13      0.08     10000\n",
      "\n"
     ]
    }
   ],
   "source": [
    "from termcolor import colored\n",
    "print(colored('Classification report for model 1\\nwithout augmentation', 'red'))\n",
    "print(classification_report(y_test, y_pred1))\n",
    "print(colored(70*'#', 'blue'))\n",
    "print(colored('Classification report for model 2\\nwith augmentation', 'red'))\n",
    "print(classification_report(y_test, y_pred))"
   ]
  }
 ],
 "metadata": {
  "kernelspec": {
   "display_name": "Python 3 (ipykernel)",
   "language": "python",
   "name": "python3"
  },
  "language_info": {
   "codemirror_mode": {
    "name": "ipython",
    "version": 3
   },
   "file_extension": ".py",
   "mimetype": "text/x-python",
   "name": "python",
   "nbconvert_exporter": "python",
   "pygments_lexer": "ipython3",
   "version": "3.8.10"
  }
 },
 "nbformat": 4,
 "nbformat_minor": 5
}
