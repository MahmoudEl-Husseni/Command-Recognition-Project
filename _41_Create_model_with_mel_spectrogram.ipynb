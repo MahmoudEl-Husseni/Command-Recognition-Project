{
 "cells": [
  {
   "cell_type": "code",
   "execution_count": 1,
   "id": "a13a2c4a",
   "metadata": {},
   "outputs": [
    {
     "name": "stderr",
     "output_type": "stream",
     "text": [
      "2022-05-05 18:03:12.716547: W tensorflow/stream_executor/platform/default/dso_loader.cc:64] Could not load dynamic library 'libcudart.so.11.0'; dlerror: libcudart.so.11.0: cannot open shared object file: No such file or directory\n",
      "2022-05-05 18:03:12.716574: I tensorflow/stream_executor/cuda/cudart_stub.cc:29] Ignore above cudart dlerror if you do not have a GPU set up on your machine.\n"
     ]
    }
   ],
   "source": [
    "import numpy as np\n",
    "import pandas as pd\n",
    "from matplotlib import pyplot as plt\n",
    "import librosa\n",
    "import librosa.display\n",
    "\n",
    "import tensorflow.keras as keras\n",
    "from keras import Sequential\n",
    "from keras import applications"
   ]
  },
  {
   "cell_type": "code",
   "execution_count": 2,
   "id": "eec4ddee",
   "metadata": {},
   "outputs": [],
   "source": [
    "MELSPECTROGRAM_PATH = 'pkl_files/mel_spectrogram.npy'\n",
    "TARGET_PATH = 'pkl_files/target.csv'\n",
    "SIGNAL_PATH = 'pkl_files/audio.npy'\n",
    "MELSPECTROGRAM_MODEL = 'models/melspec_model.h5'"
   ]
  },
  {
   "cell_type": "code",
   "execution_count": 3,
   "id": "53147b9d",
   "metadata": {},
   "outputs": [],
   "source": [
    "def build_model(input_shape):\n",
    "    model = Sequential()\n",
    "    \n",
    "    # features extracting layers\n",
    "    # conv 1 + maxpool\n",
    "    model.add(keras.layers.Conv2D(8, (3, 3), activation='relu', input_shape=input_shape))\n",
    "    model.add(keras.layers.MaxPooling2D((2, 2), strides=(2, 2), padding='valid'))\n",
    "    model.add(keras.layers.BatchNormalization())\n",
    "    \n",
    "    # conv 2 + maxpool\n",
    "    model.add(keras.layers.Conv2D(32, (3, 3), activation='relu'))\n",
    "    model.add(keras.layers.MaxPooling2D((2, 2), strides=(2, 2), padding='valid'))\n",
    "    model.add(keras.layers.BatchNormalization())\n",
    "    \n",
    "    # conv 3 + maxpool\n",
    "    model.add(keras.layers.Conv2D(64, (2, 2), activation='relu'))\n",
    "    model.add(keras.layers.MaxPooling2D((2, 2), strides=(2, 2), padding='valid'))\n",
    "    model.add(keras.layers.BatchNormalization())\n",
    "    \n",
    "    \n",
    "    # Flatten layer + classification layer\n",
    "    model.add(keras.layers.Flatten())\n",
    "    \n",
    "    model.add(keras.layers.Dense(units=200, activation='relu'))\n",
    "    model.add(keras.layers.Dropout(rate=0.25))\n",
    "    \n",
    "    model.add(keras.layers.Dense(units=128, activation='relu'))\n",
    "    model.add(keras.layers.Dropout(rate=0.25))\n",
    "    \n",
    "    # output layer\n",
    "    model.add(keras.layers.Dense(units=8, activation='softmax'))\n",
    "    \n",
    "    return model"
   ]
  },
  {
   "cell_type": "code",
   "execution_count": 4,
   "id": "f7effca1",
   "metadata": {},
   "outputs": [],
   "source": [
    "melspec = np.load(MELSPECTROGRAM_PATH, allow_pickle=True)"
   ]
  },
  {
   "cell_type": "code",
   "execution_count": 6,
   "id": "57e245c1",
   "metadata": {},
   "outputs": [],
   "source": [
    "y = pd.read_csv(TARGET_PATH, names=['target'])"
   ]
  },
  {
   "cell_type": "code",
   "execution_count": 7,
   "id": "436fbf72",
   "metadata": {},
   "outputs": [
    {
     "name": "stderr",
     "output_type": "stream",
     "text": [
      "/home/mahmoud/.local/lib/python3.8/site-packages/sklearn/utils/validation.py:73: DataConversionWarning: A column-vector y was passed when a 1d array was expected. Please change the shape of y to (n_samples, ), for example using ravel().\n",
      "  return f(**kwargs)\n"
     ]
    }
   ],
   "source": [
    "from sklearn.preprocessing import LabelEncoder\n",
    "le = LabelEncoder()\n",
    "y = le.fit_transform(y)\n",
    "labels = le.classes_"
   ]
  },
  {
   "cell_type": "code",
   "execution_count": 8,
   "id": "952a08a7",
   "metadata": {},
   "outputs": [],
   "source": [
    "from sklearn.model_selection import train_test_split\n",
    "X_train, X_test, y_train, y_test = train_test_split(melspec, y, test_size=0.2, random_state=101)"
   ]
  },
  {
   "cell_type": "markdown",
   "id": "6b599121",
   "metadata": {},
   "source": [
    "# Train Model"
   ]
  },
  {
   "cell_type": "code",
   "execution_count": 9,
   "id": "b9999d57",
   "metadata": {},
   "outputs": [],
   "source": [
    "VERBOSE = 1\n",
    "EPOCHS = 30\n",
    "BATCH = 32"
   ]
  },
  {
   "cell_type": "code",
   "execution_count": 10,
   "id": "45691733",
   "metadata": {},
   "outputs": [
    {
     "name": "stderr",
     "output_type": "stream",
     "text": [
      "2022-05-05 18:04:16.256792: I tensorflow/stream_executor/cuda/cuda_gpu_executor.cc:936] successful NUMA node read from SysFS had negative value (-1), but there must be at least one NUMA node, so returning NUMA node zero\n",
      "2022-05-05 18:04:16.257356: W tensorflow/stream_executor/platform/default/dso_loader.cc:64] Could not load dynamic library 'libcudart.so.11.0'; dlerror: libcudart.so.11.0: cannot open shared object file: No such file or directory\n",
      "2022-05-05 18:04:16.257460: W tensorflow/stream_executor/platform/default/dso_loader.cc:64] Could not load dynamic library 'libcublas.so.11'; dlerror: libcublas.so.11: cannot open shared object file: No such file or directory\n",
      "2022-05-05 18:04:16.257550: W tensorflow/stream_executor/platform/default/dso_loader.cc:64] Could not load dynamic library 'libcublasLt.so.11'; dlerror: libcublasLt.so.11: cannot open shared object file: No such file or directory\n",
      "2022-05-05 18:04:16.257642: W tensorflow/stream_executor/platform/default/dso_loader.cc:64] Could not load dynamic library 'libcufft.so.10'; dlerror: libcufft.so.10: cannot open shared object file: No such file or directory\n",
      "2022-05-05 18:04:16.257730: W tensorflow/stream_executor/platform/default/dso_loader.cc:64] Could not load dynamic library 'libcurand.so.10'; dlerror: libcurand.so.10: cannot open shared object file: No such file or directory\n",
      "2022-05-05 18:04:16.257830: W tensorflow/stream_executor/platform/default/dso_loader.cc:64] Could not load dynamic library 'libcusolver.so.11'; dlerror: libcusolver.so.11: cannot open shared object file: No such file or directory\n",
      "2022-05-05 18:04:16.257917: W tensorflow/stream_executor/platform/default/dso_loader.cc:64] Could not load dynamic library 'libcusparse.so.11'; dlerror: libcusparse.so.11: cannot open shared object file: No such file or directory\n",
      "2022-05-05 18:04:16.258026: W tensorflow/stream_executor/platform/default/dso_loader.cc:64] Could not load dynamic library 'libcudnn.so.8'; dlerror: libcudnn.so.8: cannot open shared object file: No such file or directory\n",
      "2022-05-05 18:04:16.258041: W tensorflow/core/common_runtime/gpu/gpu_device.cc:1850] Cannot dlopen some GPU libraries. Please make sure the missing libraries mentioned above are installed properly if you would like to use GPU. Follow the guide at https://www.tensorflow.org/install/gpu for how to download and setup the required libraries for your platform.\n",
      "Skipping registering GPU devices...\n",
      "2022-05-05 18:04:16.260022: I tensorflow/core/platform/cpu_feature_guard.cc:151] This TensorFlow binary is optimized with oneAPI Deep Neural Network Library (oneDNN) to use the following CPU instructions in performance-critical operations:  AVX2 FMA\n",
      "To enable them in other operations, rebuild TensorFlow with the appropriate compiler flags.\n"
     ]
    },
    {
     "name": "stdout",
     "output_type": "stream",
     "text": [
      "Model: \"sequential\"\n",
      "_________________________________________________________________\n",
      " Layer (type)                Output Shape              Param #   \n",
      "=================================================================\n",
      " conv2d (Conv2D)             (None, 126, 42, 8)        80        \n",
      "                                                                 \n",
      " max_pooling2d (MaxPooling2D  (None, 63, 21, 8)        0         \n",
      " )                                                               \n",
      "                                                                 \n",
      " batch_normalization (BatchN  (None, 63, 21, 8)        32        \n",
      " ormalization)                                                   \n",
      "                                                                 \n",
      " conv2d_1 (Conv2D)           (None, 61, 19, 32)        2336      \n",
      "                                                                 \n",
      " max_pooling2d_1 (MaxPooling  (None, 30, 9, 32)        0         \n",
      " 2D)                                                             \n",
      "                                                                 \n",
      " batch_normalization_1 (Batc  (None, 30, 9, 32)        128       \n",
      " hNormalization)                                                 \n",
      "                                                                 \n",
      " conv2d_2 (Conv2D)           (None, 29, 8, 64)         8256      \n",
      "                                                                 \n",
      " max_pooling2d_2 (MaxPooling  (None, 14, 4, 64)        0         \n",
      " 2D)                                                             \n",
      "                                                                 \n",
      " batch_normalization_2 (Batc  (None, 14, 4, 64)        256       \n",
      " hNormalization)                                                 \n",
      "                                                                 \n",
      " flatten (Flatten)           (None, 3584)              0         \n",
      "                                                                 \n",
      " dense (Dense)               (None, 200)               717000    \n",
      "                                                                 \n",
      " dropout (Dropout)           (None, 200)               0         \n",
      "                                                                 \n",
      " dense_1 (Dense)             (None, 128)               25728     \n",
      "                                                                 \n",
      " dropout_1 (Dropout)         (None, 128)               0         \n",
      "                                                                 \n",
      " dense_2 (Dense)             (None, 8)                 1032      \n",
      "                                                                 \n",
      "=================================================================\n",
      "Total params: 754,848\n",
      "Trainable params: 754,640\n",
      "Non-trainable params: 208\n",
      "_________________________________________________________________\n"
     ]
    }
   ],
   "source": [
    "model = build_model(melspec.shape[1:])\n",
    "model.summary()"
   ]
  },
  {
   "cell_type": "code",
   "execution_count": 35,
   "id": "10076510",
   "metadata": {},
   "outputs": [],
   "source": [
    "es = keras.callbacks.EarlyStopping(monitor='val_loss'\n",
    "                                   , mode='min'\n",
    "                                   , verbose=VERPOSE\n",
    "                                   , patience=10\n",
    "                                   , min_delta=0.0001)\n",
    "\n",
    "mc = keras.callbacks.ModelCheckpoint('best_model.hdf5'\n",
    "                                     , monitor='val_acc'\n",
    "                                     , verbose=VERPOSE\n",
    "                                     , save_best_only=True\n",
    "                                     , mode='max')"
   ]
  },
  {
   "cell_type": "code",
   "execution_count": 36,
   "id": "3b2fbf26",
   "metadata": {},
   "outputs": [],
   "source": [
    "model.compile(loss='SparseCategoricalCrossentropy',optimizer='adam',metrics=['accuracy'])"
   ]
  },
  {
   "cell_type": "code",
   "execution_count": 37,
   "id": "41cbed01",
   "metadata": {
    "scrolled": true
   },
   "outputs": [
    {
     "name": "stdout",
     "output_type": "stream",
     "text": [
      "Epoch 1/100\n",
      "764/764 [==============================] - ETA: 0s - loss: 1.5403 - accuracy: 0.4500WARNING:tensorflow:Can save best model only with val_acc available, skipping.\n",
      "764/764 [==============================] - 37s 47ms/step - loss: 1.5403 - accuracy: 0.4500 - val_loss: 1.7633 - val_accuracy: 0.3702\n",
      "Epoch 2/100\n",
      "764/764 [==============================] - ETA: 0s - loss: 0.7374 - accuracy: 0.7452WARNING:tensorflow:Can save best model only with val_acc available, skipping.\n",
      "764/764 [==============================] - 35s 46ms/step - loss: 0.7374 - accuracy: 0.7452 - val_loss: 1.0950 - val_accuracy: 0.6170\n",
      "Epoch 3/100\n",
      "764/764 [==============================] - ETA: 0s - loss: 0.5125 - accuracy: 0.8282WARNING:tensorflow:Can save best model only with val_acc available, skipping.\n",
      "764/764 [==============================] - 35s 46ms/step - loss: 0.5125 - accuracy: 0.8282 - val_loss: 0.7776 - val_accuracy: 0.7464\n",
      "Epoch 4/100\n",
      "764/764 [==============================] - ETA: 0s - loss: 0.3977 - accuracy: 0.8629WARNING:tensorflow:Can save best model only with val_acc available, skipping.\n",
      "764/764 [==============================] - 35s 46ms/step - loss: 0.3977 - accuracy: 0.8629 - val_loss: 1.0601 - val_accuracy: 0.6700\n",
      "Epoch 5/100\n",
      "763/764 [============================>.] - ETA: 0s - loss: 0.3342 - accuracy: 0.8863WARNING:tensorflow:Can save best model only with val_acc available, skipping.\n",
      "764/764 [==============================] - 35s 46ms/step - loss: 0.3342 - accuracy: 0.8863 - val_loss: 0.8542 - val_accuracy: 0.7469\n",
      "Epoch 6/100\n",
      "764/764 [==============================] - ETA: 0s - loss: 0.2910 - accuracy: 0.8997WARNING:tensorflow:Can save best model only with val_acc available, skipping.\n",
      "764/764 [==============================] - 37s 49ms/step - loss: 0.2910 - accuracy: 0.8997 - val_loss: 0.4772 - val_accuracy: 0.8381\n",
      "Epoch 7/100\n",
      "763/764 [============================>.] - ETA: 0s - loss: 0.2586 - accuracy: 0.9106WARNING:tensorflow:Can save best model only with val_acc available, skipping.\n",
      "764/764 [==============================] - 34s 45ms/step - loss: 0.2584 - accuracy: 0.9107 - val_loss: 0.4515 - val_accuracy: 0.8513\n",
      "Epoch 8/100\n",
      "763/764 [============================>.] - ETA: 0s - loss: 0.2368 - accuracy: 0.9195WARNING:tensorflow:Can save best model only with val_acc available, skipping.\n",
      "764/764 [==============================] - 34s 44ms/step - loss: 0.2366 - accuracy: 0.9195 - val_loss: 0.5860 - val_accuracy: 0.8120\n",
      "Epoch 9/100\n",
      "764/764 [==============================] - ETA: 0s - loss: 0.2012 - accuracy: 0.9290WARNING:tensorflow:Can save best model only with val_acc available, skipping.\n",
      "764/764 [==============================] - 34s 44ms/step - loss: 0.2012 - accuracy: 0.9290 - val_loss: 0.4954 - val_accuracy: 0.8346\n",
      "Epoch 10/100\n",
      "763/764 [============================>.] - ETA: 0s - loss: 0.1918 - accuracy: 0.9343WARNING:tensorflow:Can save best model only with val_acc available, skipping.\n",
      "764/764 [==============================] - 34s 44ms/step - loss: 0.1917 - accuracy: 0.9344 - val_loss: 0.4806 - val_accuracy: 0.8474\n",
      "Epoch 11/100\n",
      "763/764 [============================>.] - ETA: 0s - loss: 0.1737 - accuracy: 0.9402WARNING:tensorflow:Can save best model only with val_acc available, skipping.\n",
      "764/764 [==============================] - 34s 44ms/step - loss: 0.1736 - accuracy: 0.9402 - val_loss: 0.3806 - val_accuracy: 0.8909\n",
      "Epoch 12/100\n",
      "763/764 [============================>.] - ETA: 0s - loss: 0.1630 - accuracy: 0.9445WARNING:tensorflow:Can save best model only with val_acc available, skipping.\n",
      "764/764 [==============================] - 34s 44ms/step - loss: 0.1629 - accuracy: 0.9445 - val_loss: 0.4563 - val_accuracy: 0.8657\n",
      "Epoch 13/100\n",
      "763/764 [============================>.] - ETA: 0s - loss: 0.1573 - accuracy: 0.9474WARNING:tensorflow:Can save best model only with val_acc available, skipping.\n",
      "764/764 [==============================] - 34s 44ms/step - loss: 0.1573 - accuracy: 0.9474 - val_loss: 0.4200 - val_accuracy: 0.8794\n",
      "Epoch 14/100\n",
      "764/764 [==============================] - ETA: 0s - loss: 0.1442 - accuracy: 0.9510WARNING:tensorflow:Can save best model only with val_acc available, skipping.\n",
      "764/764 [==============================] - 34s 44ms/step - loss: 0.1442 - accuracy: 0.9510 - val_loss: 0.4363 - val_accuracy: 0.8830\n",
      "Epoch 15/100\n",
      "764/764 [==============================] - ETA: 0s - loss: 0.1374 - accuracy: 0.9544WARNING:tensorflow:Can save best model only with val_acc available, skipping.\n",
      "764/764 [==============================] - 34s 44ms/step - loss: 0.1374 - accuracy: 0.9544 - val_loss: 0.5610 - val_accuracy: 0.8456\n",
      "Epoch 16/100\n",
      "763/764 [============================>.] - ETA: 0s - loss: 0.1229 - accuracy: 0.9599WARNING:tensorflow:Can save best model only with val_acc available, skipping.\n",
      "764/764 [==============================] - 34s 44ms/step - loss: 0.1233 - accuracy: 0.9597 - val_loss: 0.5355 - val_accuracy: 0.8699\n",
      "Epoch 17/100\n",
      "763/764 [============================>.] - ETA: 0s - loss: 0.1147 - accuracy: 0.9626WARNING:tensorflow:Can save best model only with val_acc available, skipping.\n",
      "764/764 [==============================] - 34s 44ms/step - loss: 0.1151 - accuracy: 0.9624 - val_loss: 0.3995 - val_accuracy: 0.8902\n",
      "Epoch 18/100\n",
      "763/764 [============================>.] - ETA: 0s - loss: 0.1060 - accuracy: 0.9640WARNING:tensorflow:Can save best model only with val_acc available, skipping.\n",
      "764/764 [==============================] - 34s 44ms/step - loss: 0.1061 - accuracy: 0.9640 - val_loss: 0.4019 - val_accuracy: 0.9014\n",
      "Epoch 19/100\n",
      "763/764 [============================>.] - ETA: 0s - loss: 0.1121 - accuracy: 0.9616WARNING:tensorflow:Can save best model only with val_acc available, skipping.\n",
      "764/764 [==============================] - 34s 44ms/step - loss: 0.1120 - accuracy: 0.9617 - val_loss: 0.4222 - val_accuracy: 0.8976\n",
      "Epoch 20/100\n",
      "764/764 [==============================] - ETA: 0s - loss: 0.1087 - accuracy: 0.9648WARNING:tensorflow:Can save best model only with val_acc available, skipping.\n",
      "764/764 [==============================] - 34s 44ms/step - loss: 0.1087 - accuracy: 0.9648 - val_loss: 0.3566 - val_accuracy: 0.9064\n",
      "Epoch 21/100\n",
      "763/764 [============================>.] - ETA: 0s - loss: 0.0977 - accuracy: 0.9681WARNING:tensorflow:Can save best model only with val_acc available, skipping.\n",
      "764/764 [==============================] - 34s 44ms/step - loss: 0.0979 - accuracy: 0.9681 - val_loss: 0.3985 - val_accuracy: 0.9050\n",
      "Epoch 22/100\n",
      "763/764 [============================>.] - ETA: 0s - loss: 0.0895 - accuracy: 0.9705WARNING:tensorflow:Can save best model only with val_acc available, skipping.\n",
      "764/764 [==============================] - 34s 45ms/step - loss: 0.0894 - accuracy: 0.9705 - val_loss: 0.3887 - val_accuracy: 0.9126\n",
      "Epoch 23/100\n",
      "763/764 [============================>.] - ETA: 0s - loss: 0.0864 - accuracy: 0.9719WARNING:tensorflow:Can save best model only with val_acc available, skipping.\n",
      "764/764 [==============================] - 35s 46ms/step - loss: 0.0864 - accuracy: 0.9719 - val_loss: 0.5828 - val_accuracy: 0.8621\n",
      "Epoch 24/100\n",
      "763/764 [============================>.] - ETA: 0s - loss: 0.0920 - accuracy: 0.9708WARNING:tensorflow:Can save best model only with val_acc available, skipping.\n",
      "764/764 [==============================] - 34s 44ms/step - loss: 0.0919 - accuracy: 0.9708 - val_loss: 0.4549 - val_accuracy: 0.8912\n",
      "Epoch 25/100\n",
      "764/764 [==============================] - ETA: 0s - loss: 0.0849 - accuracy: 0.9741WARNING:tensorflow:Can save best model only with val_acc available, skipping.\n",
      "764/764 [==============================] - 34s 45ms/step - loss: 0.0849 - accuracy: 0.9741 - val_loss: 0.4925 - val_accuracy: 0.8876\n",
      "Epoch 26/100\n",
      "764/764 [==============================] - ETA: 0s - loss: 0.0797 - accuracy: 0.9748WARNING:tensorflow:Can save best model only with val_acc available, skipping.\n",
      "764/764 [==============================] - 34s 45ms/step - loss: 0.0797 - accuracy: 0.9748 - val_loss: 0.5096 - val_accuracy: 0.8847\n",
      "Epoch 27/100\n",
      "764/764 [==============================] - ETA: 0s - loss: 0.0743 - accuracy: 0.9752WARNING:tensorflow:Can save best model only with val_acc available, skipping.\n",
      "764/764 [==============================] - 34s 44ms/step - loss: 0.0743 - accuracy: 0.9752 - val_loss: 0.5907 - val_accuracy: 0.8794\n"
     ]
    },
    {
     "name": "stdout",
     "output_type": "stream",
     "text": [
      "Epoch 28/100\n",
      "764/764 [==============================] - ETA: 0s - loss: 0.0778 - accuracy: 0.9757WARNING:tensorflow:Can save best model only with val_acc available, skipping.\n",
      "764/764 [==============================] - 34s 44ms/step - loss: 0.0778 - accuracy: 0.9757 - val_loss: 0.7309 - val_accuracy: 0.8343\n",
      "Epoch 29/100\n",
      "764/764 [==============================] - ETA: 0s - loss: 0.0725 - accuracy: 0.9758WARNING:tensorflow:Can save best model only with val_acc available, skipping.\n",
      "764/764 [==============================] - 34s 44ms/step - loss: 0.0725 - accuracy: 0.9758 - val_loss: 0.4599 - val_accuracy: 0.8999\n",
      "Epoch 30/100\n",
      "763/764 [============================>.] - ETA: 0s - loss: 0.0748 - accuracy: 0.9764WARNING:tensorflow:Can save best model only with val_acc available, skipping.\n",
      "764/764 [==============================] - 34s 45ms/step - loss: 0.0748 - accuracy: 0.9765 - val_loss: 0.4110 - val_accuracy: 0.9130\n",
      "Epoch 30: early stopping\n"
     ]
    }
   ],
   "source": [
    "history=model.fit(X_train, y_train \n",
    "                  , epochs=EPOCHS, batch_size=BATCH_SIZE\n",
    "                  , validation_data=(X_test,y_test)\n",
    "                  , callbacks=[es,mc])"
   ]
  },
  {
   "cell_type": "code",
   "execution_count": 44,
   "id": "10628c0d",
   "metadata": {},
   "outputs": [
    {
     "data": {
      "image/png": "[encoded data removed]",
      "text/plain": [
       "<Figure size 432x288 with 1 Axes>"
      ]
     },
     "metadata": {
      "needs_background": "light"
     },
     "output_type": "display_data"
    }
   ],
   "source": [
    "fig, axs = plt.subplots(1, 2, figsize=(20, 5))\n",
    "axs[0].plot(history.history['loss'], label='train')\n",
    "\n",
    "axs[0].plot(history.history['val_loss'], label='val')\n",
    "axs[0].set_title('loss')\n",
    "axs[0].legend()\n",
    "axs[1].plot(history.history['accuracy'], label='train')\n",
    "\n",
    "axs[1].plot(history.history['val_accuracy'], label='val')\n",
    "axs[1].set_title('accuracy')\n",
    "axs[1].legend()\n",
    "plt.show()"
   ]
  },
  {
   "cell_type": "markdown",
   "id": "6fa2d9d5",
   "metadata": {},
   "source": [
    "# Test model with real audios"
   ]
  },
  {
   "cell_type": "code",
   "execution_count": 45,
   "id": "b8c60ad0",
   "metadata": {},
   "outputs": [],
   "source": [
    "import pyaudio\n",
    "import wave\n",
    "import IPython.display as ipd"
   ]
  },
  {
   "cell_type": "code",
   "execution_count": 133,
   "id": "a0ac00af",
   "metadata": {},
   "outputs": [
    {
     "name": "stderr",
     "output_type": "stream",
     "text": [
      "ALSA lib pcm_dsnoop.c:641:(snd_pcm_dsnoop_open) unable to open slave\n",
      "ALSA lib pcm_dmix.c:1089:(snd_pcm_dmix_open) unable to open slave\n",
      "ALSA lib pcm.c:2642:(snd_pcm_open_noupdate) Unknown PCM cards.pcm.rear\n",
      "ALSA lib pcm.c:2642:(snd_pcm_open_noupdate) Unknown PCM cards.pcm.center_lfe\n",
      "ALSA lib pcm.c:2642:(snd_pcm_open_noupdate) Unknown PCM cards.pcm.side\n",
      "ALSA lib pcm_oss.c:377:(_snd_pcm_oss_open) Unknown field port\n",
      "ALSA lib pcm_oss.c:377:(_snd_pcm_oss_open) Unknown field port\n",
      "ALSA lib pcm_usb_stream.c:486:(_snd_pcm_usb_stream_open) Invalid type for card\n",
      "ALSA lib pcm_usb_stream.c:486:(_snd_pcm_usb_stream_open) Invalid type for card\n",
      "ALSA lib pcm_dmix.c:1089:(snd_pcm_dmix_open) unable to open slave\n"
     ]
    },
    {
     "name": "stdout",
     "output_type": "stream",
     "text": [
      "start recording\n",
      "end recording\n"
     ]
    },
    {
     "data": {
      "text/html": [
       "\n",
       "                <audio  controls=\"controls\" >\n",
       "                    <source src=\"data:audio/x-wav;base64,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\" type=\"audio/x-wav\" />\n",
       "                    Your browser does not support the audio element.\n",
       "                </audio>\n",
       "              "
      ],
      "text/plain": [
       "<IPython.lib.display.Audio object>"
      ]
     },
     "execution_count": 133,
     "metadata": {},
     "output_type": "execute_result"
    }
   ],
   "source": [
    "RATE = 22050\n",
    "CHUNK = 1024\n",
    "FORMAT = pyaudio.paInt16\n",
    "CHANNELS = 1\n",
    "\n",
    "p = pyaudio.PyAudio()\n",
    "\n",
    "stream = p.open(format=FORMAT\n",
    "               ,channels=CHANNELS\n",
    "               ,rate=RATE\n",
    "               ,input=True\n",
    "               ,frames_per_buffer=CHUNK)\n",
    "print('start recording')\n",
    "frames = []\n",
    "seconds = 1.0\n",
    "for i in range(int(RATE/CHUNK * seconds)):\n",
    "    data = stream.read(CHUNK)\n",
    "    frames.append(data)\n",
    "print('end recording')\n",
    "stream.stop_stream()\n",
    "stream.close()\n",
    "p.terminate()\n",
    "\n",
    "\n",
    "wf = wave.open('input.wav', 'wb')\n",
    "wf.setnchannels(CHANNELS)\n",
    "wf.setsampwidth(p.get_sample_size(FORMAT))\n",
    "wf.setframerate(RATE)\n",
    "wf.writeframes(b''.join(frames))\n",
    "wf.close()\n",
    "\n",
    "\n",
    "ipd.Audio('input.wav')"
   ]
  },
  {
   "cell_type": "code",
   "execution_count": 136,
   "id": "d10a05e7",
   "metadata": {
    "scrolled": true
   },
   "outputs": [
    {
     "name": "stderr",
     "output_type": "stream",
     "text": [
      "/tmp/ipykernel_9968/2650480416.py:4: FutureWarning: Pass y=[ 0.00000000e+00  3.05175781e-05 -9.15527344e-05 ...  0.00000000e+00\n",
      "  0.00000000e+00  0.00000000e+00] as keyword args. From version 0.10 passing these as positional arguments will result in an error\n",
      "  signal = librosa.feature.melspectrogram(signal)\n"
     ]
    },
    {
     "data": {
      "text/plain": [
       "array(['stop'], dtype=object)"
      ]
     },
     "execution_count": 136,
     "metadata": {},
     "output_type": "execute_result"
    }
   ],
   "source": [
    "live_audio = 'input.wav'\n",
    "\n",
    "signal, _ = librosa.load(live_audio, sr=22050)\n",
    "signal = np.append(signal, np.zeros(22050-len(signal)))\n",
    "\n",
    "signal = librosa.feature.melspectrogram(signal)\n",
    "signal = signal[np.newaxis, ..., np.newaxis]\n",
    "le.inverse_transform([model.predict(signal).argmax()])"
   ]
  },
  {
   "cell_type": "code",
   "execution_count": 137,
   "id": "0e001156",
   "metadata": {},
   "outputs": [],
   "source": [
    "model.save(MELSPECTROGRAM_MODEL)"
   ]
  }
 ],
 "metadata": {
  "kernelspec": {
   "display_name": "Python 3 (ipykernel)",
   "language": "python",
   "name": "python3"
  },
  "language_info": {
   "codemirror_mode": {
    "name": "ipython",
    "version": 3
   },
   "file_extension": ".py",
   "mimetype": "text/x-python",
   "name": "python",
   "nbconvert_exporter": "python",
   "pygments_lexer": "ipython3",
   "version": "3.8.10"
  }
 },
 "nbformat": 4,
 "nbformat_minor": 5
}
